{
 "cells": [
  {
   "cell_type": "markdown",
   "metadata": {},
   "source": [
    "- Simple example of how to make "
   ]
  },
  {
   "cell_type": "code",
   "execution_count": 86,
   "metadata": {},
   "outputs": [],
   "source": [
    "import qrcode\n",
    "\n",
    "# Create a QR code object\n",
    "qr = qrcode.QRCode(\n",
    "    version=1,\n",
    "    error_correction=qrcode.constants.ERROR_CORRECT_L,\n",
    "    box_size=10,\n",
    "    border=4,\n",
    ")\n",
    "\n",
    "# Add data to the QR code\n",
    "qr.add_data('https://t.me/DataMasterMind')\n",
    "qr.make(fit=True)\n",
    "\n",
    "# Create an image from the QR code object\n",
    "img = qr.make_image(fill_color=\"black\", back_color=\"white\")\n",
    "\n",
    "# Save the image\n",
    "img.save('.QR_Codes/Ex-1-qrcode.png')\n"
   ]
  },
  {
   "cell_type": "code",
   "execution_count": 5,
   "metadata": {},
   "outputs": [],
   "source": [
    "import qrcode\n",
    "from PIL import Image\n",
    "\n",
    "# Open the background image\n",
    "img_bg = Image.open('cover_updated_1.png')\n",
    "\n",
    "# Create a QR code object\n",
    "qr = qrcode.QRCode(box_size=2)\n",
    "qr.add_data('https://www.example.com')\n",
    "qr.make()\n",
    "\n",
    "# Create an image from the QR code object\n",
    "img_qr = qr.make_image()\n",
    "\n",
    "# Calculate the position to paste the QR code on the background image\n",
    "pos = (img_bg.size[0] - img_qr.size[0], img_bg.size[1] - img_qr.size[1])\n",
    "\n",
    "# Paste the QR code on the background image\n",
    "img_bg.paste(img_qr, pos)\n",
    "\n",
    "# Save the resulting image\n",
    "img_bg.save('qrcode_with_background.png')\n"
   ]
  },
  {
   "cell_type": "code",
   "execution_count": null,
   "metadata": {},
   "outputs": [],
   "source": []
  },
  {
   "cell_type": "code",
   "execution_count": 29,
   "metadata": {},
   "outputs": [],
   "source": [
    "import qrcode\n",
    "from qrcode.image.styledpil import StyledPilImage\n",
    "from qrcode.image.styles.moduledrawers import RoundedModuleDrawer\n",
    "from  qrcode.image.styles.colormasks import SolidFillColorMask\n",
    "from PIL import Image\n",
    "from PIL import Image, ImageDraw\n",
    "\n",
    "\n",
    "if not hasattr(Image, 'Resampling'):\n",
    "  Image.Resampling = Image\n",
    "# Now PIL.Image.Resampling.BICUBIC is always recognized.\n",
    "\n",
    "im = Image.open('amazon-logo.png')\n",
    "im = add_corners(im, 100)\n",
    "im.save('amazon-logo-rounded.png')\n",
    "\n",
    "\n",
    "qr = qrcode.QRCode(error_correction=qrcode.constants.ERROR_CORRECT_H)\n",
    "\n",
    "qr.add_data('http://www.amazon.com')\n",
    "\n",
    "qr_inner_eyes_img = qr.make_image(image_factory=StyledPilImage,\n",
    "                            eye_drawer=RoundedModuleDrawer(radius_ratio=1),\n",
    "                            color_mask=SolidFillColorMask(front_color=(255, 153, 0)))\n",
    "\n",
    "qr_outer_eyes_img = qr.make_image(image_factory=StyledPilImage,\n",
    "                            eye_drawer=RoundedModuleDrawer(radius_ratio=1))                            \n",
    "\n",
    "qr_img = qr.make_image(image_factory=StyledPilImage,\n",
    "                       module_drawer=RoundedModuleDrawer(),\n",
    "                       embeded_image_path=\"amazon-logo-rounded.png\")\n",
    "\n",
    "inner_eye_mask = style_inner_eyes(qr_img)\n",
    "outer_eye_mask = style_outer_eyes(qr_img)\n",
    "intermediate_img = Image.composite(qr_inner_eyes_img, qr_img, inner_eye_mask)\n",
    "final_image = Image.composite(qr_outer_eyes_img, intermediate_img, outer_eye_mask)\n",
    "#final_image.save(\"final_qr_code.png\")\n",
    "# final_image.show()"
   ]
  },
  {
   "cell_type": "code",
   "execution_count": 31,
   "metadata": {},
   "outputs": [],
   "source": [
    "final_image.show()"
   ]
  },
  {
   "cell_type": "code",
   "execution_count": 7,
   "metadata": {},
   "outputs": [
    {
     "ename": "SyntaxError",
     "evalue": "invalid syntax (2437746294.py, line 1)",
     "output_type": "error",
     "traceback": [
      "\u001b[1;36m  File \u001b[1;32m\"C:\\Users\\saeed.misaghian\\AppData\\Local\\Temp\\ipykernel_27908\\2437746294.py\"\u001b[1;36m, line \u001b[1;32m1\u001b[0m\n\u001b[1;33m    pip uninstall PIL\u001b[0m\n\u001b[1;37m        ^\u001b[0m\n\u001b[1;31mSyntaxError\u001b[0m\u001b[1;31m:\u001b[0m invalid syntax\n"
     ]
    }
   ],
   "source": [
    "pip uninstall PIL\n",
    "pip install --upgrade Pillow\n"
   ]
  },
  {
   "cell_type": "code",
   "execution_count": 32,
   "metadata": {},
   "outputs": [],
   "source": [
    "import qrcode\n",
    "from qrcode.image.styledpil import StyledPilImage\n",
    "from qrcode.image.styles.moduledrawers import RoundedModuleDrawer\n",
    "from qrcode.image.styles.colormasks import SolidFillColorMask\n",
    "from PIL import Image\n",
    "\n",
    "# Open and round the logo image\n",
    "im = Image.open('amazon-logo.png')\n",
    "im = add_corners(im, 100)\n",
    "im.save('amazon-logo-rounded.png')\n",
    "\n",
    "# Create a QR code instance\n",
    "qr = qrcode.QRCode(error_correction=qrcode.constants.ERROR_CORRECT_H)\n",
    "qr.add_data('http://www.amazon.com')\n",
    "\n",
    "# Generate the styled inner eye image\n",
    "qr_inner_eyes_img = qr.make_image(\n",
    "    image_factory=StyledPilImage,\n",
    "    eye_drawer=RoundedModuleDrawer(radius_ratio=1),\n",
    "    color_mask=SolidFillColorMask(front_color=(255, 153, 0))\n",
    ")\n",
    "\n",
    "# Generate the styled outer eye image\n",
    "qr_outer_eyes_img = qr.make_image(\n",
    "    image_factory=StyledPilImage,\n",
    "    eye_drawer=RoundedModuleDrawer(radius_ratio=1)\n",
    ")\n",
    "\n",
    "# Generate the QR code image with the embedded logo\n",
    "qr_img = qr.make_image(\n",
    "    image_factory=StyledPilImage,\n",
    "    module_drawer=RoundedModuleDrawer(),\n",
    "    embedded_image_path=\"amazon-logo-rounded.png\"\n",
    ")\n",
    "\n",
    "# Calculate masks for inner and outer eyes\n",
    "inner_eye_mask = style_inner_eyes(qr_img)  # Make sure this function is correctly defined\n",
    "outer_eye_mask = style_outer_eyes(qr_img)  # Make sure this function is correctly defined\n",
    "\n",
    "# Composite the images\n",
    "intermediate_img = Image.composite(qr_inner_eyes_img, qr_img, inner_eye_mask)\n",
    "final_image = Image.composite(qr_outer_eyes_img, intermediate_img, outer_eye_mask)\n",
    "\n",
    "# Save and display the final image\n",
    "final_image.save(\"final_qr_code.png\")\n",
    "final_image.show()\n"
   ]
  },
  {
   "cell_type": "code",
   "execution_count": 38,
   "metadata": {},
   "outputs": [
    {
     "data": {
      "image/jpeg": "[encoded data removed]",
      "image/png": "[encoded data removed]",
      "text/plain": [
       "<qrcode.image.styledpil.StyledPilImage at 0x2862f3cb970>"
      ]
     },
     "execution_count": 38,
     "metadata": {},
     "output_type": "execute_result"
    }
   ],
   "source": [
    "import qrcode\n",
    "import PIL\n",
    "from qrcode.image.styledpil import StyledPilImage\n",
    "from qrcode.image.styles.moduledrawers import SquareModuleDrawer, RoundedModuleDrawer\n",
    "\n",
    "from  qrcode.image.styles.colormasks import ImageColorMask\n",
    "from PIL import Image, ImageDraw\n",
    "\n",
    "if not hasattr(Image, 'Resampling'):\n",
    "  Image.Resampling =Image\n",
    "# Now PIL.Image.Resampling.BICUBIC is always recognized.\n",
    "\n",
    "\n",
    "qr = qrcode.QRCode(version=1,error_correction=qrcode.constants.ERROR_CORRECT_H)\n",
    "\n",
    "qr.add_data('http://www.medium.com')\n",
    "                         \n",
    "\n",
    "qr_img = qr.make_image(image_factory=StyledPilImage,\n",
    "                       color_mask=ImageColorMask(color_mask_path='cover_updated_1.png'))\n",
    "\n",
    "# qr_img.save('example_assets/my-colormask-qrcode.png')\n",
    "qr_img"
   ]
  },
  {
   "cell_type": "code",
   "execution_count": 56,
   "metadata": {},
   "outputs": [],
   "source": [
    "final_image.show()"
   ]
  },
  {
   "cell_type": "code",
   "execution_count": 59,
   "metadata": {},
   "outputs": [
    {
     "name": "stdout",
     "output_type": "stream",
     "text": [
      "QR code with logo generated and saved as qr_code_with_logo.png\n"
     ]
    }
   ],
   "source": [
    "import qrcode\n",
    "from PIL import Image\n",
    "\n",
    "# Open and resize the logo image\n",
    "logo_path = 'cover_updated_1.png'\n",
    "logo = Image.open(logo_path)\n",
    "logo = logo.resize((100, 100))  # Resize the logo as needed\n",
    "\n",
    "# Create a QR code instance\n",
    "qr = qrcode.QRCode(\n",
    "    error_correction=qrcode.constants.ERROR_CORRECT_H,\n",
    "    box_size=10,\n",
    "    border=4,\n",
    ")\n",
    "\n",
    "# Add data to the QR code\n",
    "data = 'http://www.medium.com'\n",
    "qr.add_data(data)\n",
    "qr.make(fit=True)\n",
    "\n",
    "# Generate the QR code image\n",
    "qr_code_img = qr.make_image(fill_color=\"black\", back_color=\"white\")\n",
    "\n",
    "# Calculate the position to overlay the logo in the center\n",
    "qr_width, qr_height = qr_code_img.size\n",
    "logo_width, logo_height = logo.size\n",
    "position = ((qr_width - logo_width) // 2, (qr_height - logo_height) // 2)\n",
    "\n",
    "# Paste the logo onto the QR code\n",
    "qr_code_img.paste(logo, position)\n",
    "\n",
    "# Save the final QR code with the logo\n",
    "output_path = 'qr_code_with_logo.png'\n",
    "qr_code_img.save(output_path)\n",
    "\n",
    "print(\"QR code with logo generated and saved as\", output_path)\n"
   ]
  },
  {
   "cell_type": "code",
   "execution_count": 68,
   "metadata": {},
   "outputs": [
    {
     "name": "stdout",
     "output_type": "stream",
     "text": [
      "QR code with logo generated and saved as qr_code_with_logo.png\n"
     ]
    }
   ],
   "source": [
    "import qrcode\n",
    "from PIL import Image\n",
    "\n",
    "# Open and resize the logo image\n",
    "logo_path = 'cover_updated_1.png'\n",
    "logo = Image.open(logo_path)\n",
    "logo = logo.resize((100, 100))  # Resize the logo as needed\n",
    "\n",
    "# Create a QR code instance\n",
    "qr = qrcode.QRCode(\n",
    "    error_correction=qrcode.constants.ERROR_CORRECT_H,\n",
    "    box_size=10,\n",
    "    border=4,\n",
    ")\n",
    "\n",
    "# Add data to the QR code\n",
    "data = 'http://www.medium.com'\n",
    "qr.add_data(data)\n",
    "qr.make(fit=True)\n",
    "\n",
    "# Generate the QR code image\n",
    "qr_code_img = qr.make_image(fill_color=\"white\", back_color=\"navy\")\n",
    "\n",
    "# Calculate the position to overlay the logo in the center\n",
    "qr_width, qr_height = qr_code_img.size\n",
    "logo_width, logo_height = logo.size\n",
    "position = ((qr_width - logo_width) // 2, (qr_height - logo_height) // 2)\n",
    "\n",
    "# Paste the logo onto the QR code with transparency\n",
    "qr_code_img.paste(logo, position, logo)\n",
    "\n",
    "# Save the final QR code with the logo\n",
    "output_path = 'qr_code_with_logo.png'\n",
    "qr_code_img.save(output_path)\n",
    "\n",
    "print(\"QR code with logo generated and saved as\", output_path)\n"
   ]
  },
  {
   "cell_type": "code",
   "execution_count": 81,
   "metadata": {},
   "outputs": [
    {
     "name": "stdout",
     "output_type": "stream",
     "text": [
      "Custom styled QR code generated and saved as custom_styled_qr_code.png\n"
     ]
    }
   ],
   "source": [
    "import qrcode\n",
    "from PIL import Image, ImageChops, ImageEnhance\n",
    "\n",
    "# Open and resize the logo image\n",
    "logo_path = 'cover_updated_1.png'\n",
    "logo = Image.open(logo_path)\n",
    "logo = logo.resize((100, 100))  # Resize the logo as needed\n",
    "\n",
    "# Create a QR code instance\n",
    "qr = qrcode.QRCode(\n",
    "    error_correction=qrcode.constants.ERROR_CORRECT_H,\n",
    "    box_size=10,\n",
    "    border=4,\n",
    ")\n",
    "\n",
    "# Add data to the QR code\n",
    "data = 'http://www.medium.com'\n",
    "qr.add_data(data)\n",
    "qr.make(fit=True)\n",
    "\n",
    "# Generate the QR code image\n",
    "qr_code_img = qr.make_image(fill_color=\"white\", back_color=\"black\")\n",
    "\n",
    "# Create a gradient background\n",
    "gradient = Image.new('RGB', qr_code_img.size, (17, 13, 53))  # Gradient color\n",
    "\n",
    "# Blend the QR code image with the gradient background\n",
    "blended_image = ImageChops.blend(gradient, qr_code_img, alpha=0.5)  # Adjust alpha value\n",
    "\n",
    "# Adjust the transparency of the logo\n",
    "logo_with_transparency = logo.copy()\n",
    "enhancer = ImageEnhance.Brightness(logo_with_transparency)\n",
    "logo_with_transparency = enhancer.enhance(0.7)  # Adjust transparency\n",
    "\n",
    "# Calculate the position to overlay the logo in the center\n",
    "qr_width, qr_height = qr_code_img.size\n",
    "logo_width, logo_height = logo_with_transparency.size\n",
    "position = ((qr_width - logo_width) // 2, (qr_height - logo_height) // 2)\n",
    "\n",
    "# Paste the logo onto the blended image\n",
    "blended_image.paste(logo_with_transparency, position, logo_with_transparency)\n",
    "\n",
    "# Save the final QR code with the logo and custom style\n",
    "output_path = 'custom_styled_qr_code.png'\n",
    "blended_image.save(output_path)\n",
    "\n",
    "print(\"Custom styled QR code generated and saved as\", output_path)\n"
   ]
  },
  {
   "cell_type": "code",
   "execution_count": null,
   "metadata": {},
   "outputs": [],
   "source": []
  }
 ],
 "metadata": {
  "kernelspec": {
   "display_name": "Python 3",
   "language": "python",
   "name": "python3"
  },
  "language_info": {
   "codemirror_mode": {
    "name": "ipython",
    "version": 3
   },
   "file_extension": ".py",
   "mimetype": "text/x-python",
   "name": "python",
   "nbconvert_exporter": "python",
   "pygments_lexer": "ipython3",
   "version": "3.9.13"
  },
  "orig_nbformat": 4
 },
 "nbformat": 4,
 "nbformat_minor": 2
}
